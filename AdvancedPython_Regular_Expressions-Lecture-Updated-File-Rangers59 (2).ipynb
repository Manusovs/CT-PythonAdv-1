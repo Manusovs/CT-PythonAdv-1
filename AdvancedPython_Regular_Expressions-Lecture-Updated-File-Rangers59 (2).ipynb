{
 "cells": [
  {
   "cell_type": "markdown",
   "metadata": {
    "id": "MxPxu0fiR0Jr"
   },
   "source": [
    "# Regular Expressions"
   ]
  },
  {
   "cell_type": "markdown",
   "metadata": {
    "id": "w1d45mfvR0Jy"
   },
   "source": [
    "# Tasks today:\n",
    "1) <b>Importing</b> <br>\n",
    "2) <b>Using Regular Expressions</b> <br>\n",
    " &nbsp;&nbsp;&nbsp;&nbsp; a) re.compile() <br>\n",
    " &nbsp;&nbsp;&nbsp;&nbsp; b) re.match() <br>\n",
    " &nbsp;&nbsp;&nbsp;&nbsp; c) re.findall() <br>\n",
    " &nbsp;&nbsp;&nbsp;&nbsp; d) re.search() <br>\n",
    "3) <b>Sets</b> <br>\n",
    " &nbsp;&nbsp;&nbsp;&nbsp; a) Integer Ranges <br>\n",
    " &nbsp;&nbsp;&nbsp;&nbsp; b) Character Ranges <br>\n",
    "4) <b>Counting Occurences</b> <br>\n",
    " &nbsp;&nbsp;&nbsp;&nbsp; a) {x} <br>\n",
    " &nbsp;&nbsp;&nbsp;&nbsp; b) {, x} <br>\n",
    " &nbsp;&nbsp;&nbsp;&nbsp; c) {?} <br>\n",
    " &nbsp;&nbsp;&nbsp;&nbsp; d) {*} <br>\n",
    " &nbsp;&nbsp;&nbsp;&nbsp; e) {+} <br>\n",
    "5) <b>In-Class Exercise #1</b> <br>\n",
    "6) <b>Escaping Characters</b> <br>\n",
    "7) <b>Grouping</b> <br>\n",
    "8) <b>In-Class Exercise #2</b> <br>\n",
    "9) <b>Opening a File</b> <br>\n",
    " &nbsp;&nbsp;&nbsp;&nbsp; a) open() <br>\n",
    " &nbsp;&nbsp;&nbsp;&nbsp; b) with open() <br>\n",
    " &nbsp;&nbsp;&nbsp;&nbsp; c) re.match() <br>\n",
    " &nbsp;&nbsp;&nbsp;&nbsp; d) re.search() <br>\n",
    " &nbsp;&nbsp;&nbsp;&nbsp; e) Store the String in a Variable <br>\n",
    "10) <b>Regex Project</b> <br>"
   ]
  },
  {
   "cell_type": "markdown",
   "metadata": {
    "id": "Y_BOXS1wR0J0"
   },
   "source": [
    "### Importing <br>\n",
    "<p>Regular Expressions are universal throughout most programming languages... They are generally imported through the module 're'.</p>"
   ]
  },
  {
   "cell_type": "code",
   "execution_count": 4,
   "metadata": {
    "executionInfo": {
     "elapsed": 145,
     "status": "ok",
     "timestamp": 1689963581270,
     "user": {
      "displayName": "Scott Manusov",
      "userId": "04813242236430155200"
     },
     "user_tz": 300
    },
    "id": "uOccEVHIR0J1"
   },
   "outputs": [],
   "source": [
    "# import re\n",
    "import re"
   ]
  },
  {
   "cell_type": "markdown",
   "metadata": {
    "id": "mFFSxghYR0J3"
   },
   "source": [
    "### Using Regular Expressions <br>\n",
    "<p>Regular expressions give us the ability to search for patterns within text, strings, files, etc. They serve several uses, such as; security measures, searching, filtering, pattern recognition, and more...</p>"
   ]
  },
  {
   "cell_type": "markdown",
   "metadata": {
    "id": "MK0Do7HKR0J3"
   },
   "source": [
    "##### re.compile()"
   ]
  },
  {
   "cell_type": "code",
   "execution_count": null,
   "metadata": {
    "id": "K9gpeiwiR0J4"
   },
   "outputs": [],
   "source": [
    "# using compile, pre determines the string to be used in regular expression methods\n",
    "\n"
   ]
  },
  {
   "cell_type": "markdown",
   "metadata": {
    "id": "pTXwx8s2R0J5"
   },
   "source": [
    "##### re.match()"
   ]
  },
  {
   "cell_type": "code",
   "execution_count": null,
   "metadata": {
    "id": "vMI49oWCR0J7"
   },
   "outputs": [],
   "source": [
    "\n",
    "\n",
    "# Accessing the span of the match\n"
   ]
  },
  {
   "cell_type": "markdown",
   "metadata": {
    "id": "6QoXgCGhR0J9"
   },
   "source": [
    "##### re.findall()"
   ]
  },
  {
   "cell_type": "code",
   "execution_count": null,
   "metadata": {
    "id": "mQ4dYwYwR0J-"
   },
   "outputs": [],
   "source": []
  },
  {
   "cell_type": "markdown",
   "metadata": {
    "id": "z2zq4a5OR0J_"
   },
   "source": [
    "##### re.search()"
   ]
  },
  {
   "cell_type": "code",
   "execution_count": null,
   "metadata": {
    "id": "G8xSY10CR0J_"
   },
   "outputs": [],
   "source": []
  },
  {
   "cell_type": "markdown",
   "metadata": {
    "id": "bTQyN85fR0J_"
   },
   "source": [
    "### Sets <br>\n",
    "<p>The following cells will allow you to use regular expressions to search for certain values within a range such as numbers 1 through 4.</p>"
   ]
  },
  {
   "cell_type": "markdown",
   "metadata": {
    "id": "RNP_WPAiR0KA"
   },
   "source": [
    "##### [a-z] or [A-Z] - any lowercase/uppercase letters from a to z<br/>[^2] - anything that's not 2"
   ]
  },
  {
   "cell_type": "markdown",
   "metadata": {
    "id": "QRmxR9xIR0KA"
   },
   "source": [
    "##### Integer Ranges"
   ]
  },
  {
   "cell_type": "code",
   "execution_count": null,
   "metadata": {
    "id": "tXP1GTWGR0KB"
   },
   "outputs": [],
   "source": []
  },
  {
   "cell_type": "markdown",
   "metadata": {
    "id": "20xH6dY4R0KC"
   },
   "source": [
    "##### Character Ranges"
   ]
  },
  {
   "cell_type": "code",
   "execution_count": null,
   "metadata": {
    "id": "JkDEtT-bR0KC"
   },
   "outputs": [],
   "source": []
  },
  {
   "cell_type": "markdown",
   "metadata": {
    "id": "wFAeQYD2R0KC"
   },
   "source": [
    "### Counting Occurences"
   ]
  },
  {
   "cell_type": "markdown",
   "metadata": {
    "id": "Bd44ArR_R0KC"
   },
   "source": [
    "##### {x} - something that occurs {num_of_times}"
   ]
  },
  {
   "cell_type": "code",
   "execution_count": null,
   "metadata": {
    "colab": {
     "base_uri": "https://localhost:8080/"
    },
    "executionInfo": {
     "elapsed": 225,
     "status": "ok",
     "timestamp": 1689957800930,
     "user": {
      "displayName": "Scott Manusov",
      "userId": "04813242236430155200"
     },
     "user_tz": 300
    },
    "id": "-rZ87kYEU_OM",
    "outputId": "c13ad51f-4978-4cd7-faf8-c08a03dddade"
   },
   "outputs": [
    {
     "name": "stdout",
     "output_type": "stream",
     "text": [
      "['An33']\n"
     ]
    }
   ],
   "source": [
    "char_pattern_count = re.compile('[A-Z][a-z][0-3]{2}')\n",
    "found_count = char_pattern_count.findall('Hello Mr. An33derson')\n",
    "print(found_count)"
   ]
  },
  {
   "cell_type": "code",
   "execution_count": null,
   "metadata": {
    "id": "FyZ8EAo4R0KC"
   },
   "outputs": [],
   "source": []
  },
  {
   "cell_type": "markdown",
   "metadata": {
    "id": "pRUwgm7ER0KC"
   },
   "source": [
    "##### {x, x} - something that occurs between x and x times"
   ]
  },
  {
   "cell_type": "code",
   "execution_count": null,
   "metadata": {
    "id": "PoL98R69R0KD"
   },
   "outputs": [],
   "source": []
  },
  {
   "cell_type": "markdown",
   "metadata": {
    "id": "DwF9IbTKR0KD"
   },
   "source": [
    "##### ? - something that occurs 0 or 1 time"
   ]
  },
  {
   "cell_type": "code",
   "execution_count": null,
   "metadata": {
    "id": "z8ep97LnR0KE"
   },
   "outputs": [],
   "source": []
  },
  {
   "cell_type": "code",
   "execution_count": null,
   "metadata": {
    "id": "VcJXI99fUyQC"
   },
   "outputs": [],
   "source": []
  },
  {
   "cell_type": "markdown",
   "metadata": {
    "id": "TR3Tsi2IR0KE"
   },
   "source": [
    "##### * - something that occurs at least 0 times"
   ]
  },
  {
   "cell_type": "code",
   "execution_count": null,
   "metadata": {
    "id": "aIBLUzoVR0KF"
   },
   "outputs": [],
   "source": []
  },
  {
   "cell_type": "markdown",
   "metadata": {
    "id": "qFOgD-ixR0KF"
   },
   "source": [
    "##### + - something that occurs at least once"
   ]
  },
  {
   "cell_type": "code",
   "execution_count": null,
   "metadata": {
    "id": "0fbkCN9mR0KF"
   },
   "outputs": [],
   "source": []
  },
  {
   "cell_type": "markdown",
   "metadata": {
    "id": "JJ4gu6ZGR0KG"
   },
   "source": [
    "##### In-class exercise 1:\n",
    "\n",
    "Use a regular expression to find every number in the given string"
   ]
  },
  {
   "cell_type": "code",
   "execution_count": null,
   "metadata": {
    "colab": {
     "base_uri": "https://localhost:8080/"
    },
    "executionInfo": {
     "elapsed": 185,
     "status": "ok",
     "timestamp": 1689958092426,
     "user": {
      "displayName": "Scott Manusov",
      "userId": "04813242236430155200"
     },
     "user_tz": 300
    },
    "id": "DrRcz9bsR0KG",
    "outputId": "c7aa1183-5995-41b4-bf05-886ab2111686"
   },
   "outputs": [
    {
     "name": "stdout",
     "output_type": "stream",
     "text": [
      "['10909090', '1', '2']\n"
     ]
    }
   ],
   "source": [
    "my_string = \"This string has 10909090 numbers, but it is only 1 string. I hope you solve this 2day.\"\n",
    "\n",
    "#Output = ['10909090', '1', '2']\n",
    "\n",
    "# The '+'' does not nead the '{}'\n",
    "numfinder = re.compile('[0-9]+')\n",
    "numbers = numfinder.findall(my_string)\n",
    "print(numbers)\n"
   ]
  },
  {
   "cell_type": "markdown",
   "metadata": {
    "id": "FgPYzrWPR0KH"
   },
   "source": [
    "### Escaping Characters"
   ]
  },
  {
   "cell_type": "markdown",
   "metadata": {
    "id": "KAaQqLM_R0KH"
   },
   "source": [
    "##### \\w - look for any Unicode character<br/>\\W - look for anything that isnt a Unicode character\n",
    "\n",
    "[History on Unicode](http://unicode.org/standard/WhatIsUnicode.html)\n",
    "\n",
    "[More on Unicode Characters](https://en.wikipedia.org/wiki/List_of_Unicode_characters)"
   ]
  },
  {
   "cell_type": "code",
   "execution_count": 10,
   "metadata": {
    "colab": {
     "base_uri": "https://localhost:8080/"
    },
    "executionInfo": {
     "elapsed": 146,
     "status": "ok",
     "timestamp": 1689963755043,
     "user": {
      "displayName": "Scott Manusov",
      "userId": "04813242236430155200"
     },
     "user_tz": 300
    },
    "id": "_g8NxUGYR0KH",
    "outputId": "b7fbb482-2305-44f1-82e1-a2fb1c1d11b9"
   },
   "outputs": [
    {
     "name": "stdout",
     "output_type": "stream",
     "text": [
      "🔥\n",
      "['This', 'is', 'a', 'sentence', 'and', 'a', '3', 'With', 'an', 'exclamation', 'mark', 'at', 'the', 'end']\n",
      "[' ', ' ', ' ', ' ', ' ', ' ', '. ', ' ', ', ', ' ', ' ', ' ', ' ', '!']\n"
     ]
    }
   ],
   "source": [
    "print('\\U0001f525')\n",
    "# lowercase'w' finds unicode (which does not include spaces, periods, or exclamation points)\n",
    "pattern_1 = re.compile('[\\w]+')\n",
    "# capital 'W' finds things that are not unicode\n",
    "pattern_2 = re.compile('[\\W]+')\n",
    "\n",
    "found_1 = pattern_1.findall('This is a sentence and a 3. With an, exclamation mark at the end!')\n",
    "found_2 = pattern_2.findall('This is a sentence and a 3. With an, exclamation mark at the end!')\n",
    "\n",
    "print(found_1)\n",
    "print(found_2)"
   ]
  },
  {
   "cell_type": "markdown",
   "metadata": {
    "id": "hQQxMICmR0KI"
   },
   "source": [
    "##### \\d - look for any digit 0-9<br/>\\D - look for anything that isnt a digit"
   ]
  },
  {
   "cell_type": "code",
   "execution_count": 40,
   "metadata": {
    "colab": {
     "base_uri": "https://localhost:8080/"
    },
    "executionInfo": {
     "elapsed": 126,
     "status": "ok",
     "timestamp": 1689972581135,
     "user": {
      "displayName": "Scott Manusov",
      "userId": "04813242236430155200"
     },
     "user_tz": 300
    },
    "id": "lwZWilniR0KJ",
    "outputId": "53faf095-a0f9-4d07-b83b-fa8619ce0a08"
   },
   "outputs": [
    {
     "name": "stdout",
     "output_type": "stream",
     "text": [
      "🔥\n",
      "['7th', '27th', '3rd', '1st', '30th']\n"
     ]
    }
   ],
   "source": [
    "print('\\U0001f525')\n",
    "\n",
    "digit_1 = re.compile('\\d{1,2}[a-z]{2}')\n",
    "\n",
    "found_digit_1 = digit_1.findall('Today is the 7th, in, 20 days it will be the 27th. 3rd, 1st, 30th')\n",
    "\n",
    "print(found_digit_1)"
   ]
  },
  {
   "cell_type": "markdown",
   "metadata": {
    "id": "qZSLjpXhR0KJ"
   },
   "source": [
    "##### \\s - look for any white space<br/>\\S - look for anything that isnt whitespace"
   ]
  },
  {
   "cell_type": "code",
   "execution_count": 8,
   "metadata": {
    "colab": {
     "base_uri": "https://localhost:8080/"
    },
    "executionInfo": {
     "elapsed": 119,
     "status": "ok",
     "timestamp": 1689974946586,
     "user": {
      "displayName": "Scott Manusov",
      "userId": "04813242236430155200"
     },
     "user_tz": 300
    },
    "id": "rkmS5OPYR0KJ",
    "outputId": "7b3af3b7-7a46-4514-9758-b077acfbcf21"
   },
   "outputs": [
    {
     "name": "stdout",
     "output_type": "stream",
     "text": [
      " in\n",
      "['Today', 'is', 'the', '7th,', 'in,', '20', 'days', 'it', 'will', 'be', 'the', '27th.', '3rd,', '1st,', '30th']\n"
     ]
    }
   ],
   "source": [
    "space_1 = re.compile('\\s[a-z]+')\n",
    "space_2 = re.compile('\\S+')\n",
    "\n",
    "found_space_1 = space_1.findall('Today is the 7th, in, 20 days it will be the 27th. 3rd, 1st, 30th')\n",
    "found_space_2 = space_2.findall('Today is the 7th, in, 20 days it will be the 27th. 3rd, 1st, 30th')\n",
    "\n",
    "print(found_space_1[2])\n",
    "print(found_space_2)"
   ]
  },
  {
   "cell_type": "markdown",
   "metadata": {
    "id": "j4Y7FzfrR0KK"
   },
   "source": [
    "##### \\b - look for boundaries or edges of a word<br/>\\B - look for anything that isnt a boundary"
   ]
  },
  {
   "cell_type": "code",
   "execution_count": 57,
   "metadata": {
    "colab": {
     "base_uri": "https://localhost:8080/"
    },
    "executionInfo": {
     "elapsed": 130,
     "status": "ok",
     "timestamp": 1689975427523,
     "user": {
      "displayName": "Scott Manusov",
      "userId": "04813242236430155200"
     },
     "user_tz": 300
    },
    "id": "BsruTzrSR0KL",
    "outputId": "1e090b26-b8cd-488b-bed5-5fd6f451b299"
   },
   "outputs": [
    {
     "name": "stdout",
     "output_type": "stream",
     "text": [
      "['TheCodingTemple']\n",
      "[]\n"
     ]
    }
   ],
   "source": [
    "inside = re.compile(r'\\bTheCodingTemple\\b')\n",
    "outside = re.compile(r'\\BTheCodingTemple\\B')\n",
    "\n",
    "found_inside = inside.findall('TheCodingTemple')\n",
    "found_outside = outside.findall('TheCodingTemple')\n",
    "\n",
    "print(found_inside)\n",
    "print(found_outside)"
   ]
  },
  {
   "cell_type": "markdown",
   "metadata": {
    "id": "6uSMHnNdR0KL"
   },
   "source": [
    "### Grouping"
   ]
  },
  {
   "cell_type": "code",
   "execution_count": null,
   "metadata": {
    "id": "alS844K5R0KM"
   },
   "outputs": [],
   "source": []
  },
  {
   "cell_type": "markdown",
   "metadata": {
    "id": "UWgjZoFpR0KM"
   },
   "source": [
    "##### In-class Exercise 2:\n",
    "\n",
    "Write a function using regular expressions to find the domain name in the given email addresses (and return None for the invalid email addresses)<br><b>HINT: Use '|' for either or</b>"
   ]
  },
  {
   "cell_type": "code",
   "execution_count": 115,
   "metadata": {
    "colab": {
     "base_uri": "https://localhost:8080/"
    },
    "executionInfo": {
     "elapsed": 197,
     "status": "ok",
     "timestamp": 1689979980617,
     "user": {
      "displayName": "Scott Manusov",
      "userId": "04813242236430155200"
     },
     "user_tz": 300
    },
    "id": "Mlfa0rjrR0KN",
    "outputId": "b185a7d9-ee28-496b-8ff5-02384acfc1fb"
   },
   "outputs": [
    {
     "name": "stdout",
     "output_type": "stream",
     "text": [
      "None\n",
      "pocohontas1776@gmail.com\n",
      "None\n",
      "yourfavoriteband@g6.org\n",
      "None\n"
     ]
    }
   ],
   "source": [
    "my_emails = [\"jordanw@codingtemple.orgcom\", \"pocohontas1776@gmail.com\", \"helloworld@aol..com\",\n",
    "             \"yourfavoriteband@g6.org\", \"@codingtemple.com\"]\n",
    "\n",
    "# You can also use the $ at the end of your compile expression -- this stops the search\n",
    "\n",
    "#.com OR .org => com|org\n",
    "\n",
    "#Expected output:\n",
    "#None\n",
    "#pocohontas1776@gmail.com\n",
    "#None\n",
    "#yourfavoriteband@g6.org\n",
    "#None\n",
    "\n",
    "#Step 1 loop each email\n",
    "#Step 2 search for the \".com\" or \".org\" as an if/then\n",
    "#Step 3 if present print email\n",
    "#Step 4 otherwise print None\n",
    "\n",
    "# check for .com or .org\n",
    "email_validator1 = re.compile(r\"\\.(com|org)$\" )\n",
    "# check that there is a unicode character before and after the @ symbol\n",
    "email_validator2 = re.compile(\"\\w@\\w\")\n",
    "# check that .. is not repeated (could do this the same was as the @ symbol)\n",
    "fail_email = re.compile(r\"\\.\\.\")\n",
    "# run through each email\n",
    "for email in my_emails:\n",
    "  # check all 3 conditions are true alternatively could have had a true variable that flipped if something failed\n",
    "  check_email1 = email_validator1.search(email)\n",
    "  check_email2 = email_validator2.search(email)\n",
    "  fail = fail_email.search(email)\n",
    "  if check_email1 and check_email2 and not fail:\n",
    "    print(email)\n",
    "  else:\n",
    "      print(\"None\")\n"
   ]
  },
  {
   "cell_type": "markdown",
   "metadata": {
    "id": "jvA-mPBjR0KO"
   },
   "source": [
    "### Opening a File <br>\n",
    "<p>Python gives us a couple ways to import files, below are the two used most often.</p>"
   ]
  },
  {
   "cell_type": "markdown",
   "metadata": {
    "id": "0yWdKIFPR0KO"
   },
   "source": [
    "##### open()"
   ]
  },
  {
   "cell_type": "code",
   "execution_count": 1,
   "metadata": {
    "colab": {
     "base_uri": "https://localhost:8080/",
     "height": 241
    },
    "executionInfo": {
     "elapsed": 175,
     "status": "error",
     "timestamp": 1690037625899,
     "user": {
      "displayName": "Scott Manusov",
      "userId": "04813242236430155200"
     },
     "user_tz": 300
    },
    "id": "aO2AzDrRR0KP",
    "outputId": "519594d7-2f1a-4aef-b444-ab476488310f"
   },
   "outputs": [
    {
     "name": "stdout",
     "output_type": "stream",
     "text": [
      "Hawkins, Derek\tderek@codingtemple.com\t(555) 555-5555\tTeacher, Coding Temple\t@derekhawkins\n",
      "Zhai, Mo\tmozhai@codingtemple.com\t(555) 555-5554\tTeacher, Coding Temple\n",
      "Johnson, Joe\tjoejohnson@codingtemple.com\t\tJohson, Joe\n",
      "Osterberg, Sven-Erik\tgovernor@norrbotten.co.se\t\tGovernor, Norrbotten\t@sverik\n",
      ", Tim\ttim@killerrabbit.com\t\tEnchanter, Killer Rabbit Cave\n",
      "Butz, Ryan\tryanb@codingtemple.com\t(555) 555-5543\tCEO, Coding Temple\t@ryanbutz\n",
      "Doctor, The\tdoctor+companion@tardis.co.uk\t\tTime Lord, Gallifrey\n",
      "Exampleson, Example\tme@example.com\t555-555-5552\tExample, Example Co.\t@example\n",
      "Pael, Ripal\tripalp@codingtemple.com\t(555) 555-5553\tTeacher, Coding Temple\t@ripalp\n",
      "Vader, Darth\tdarth-vader@empire.gov\t(555) 555-4444\tSith Lord, Galactic Empire\t@darthvader\n",
      "Fernandez de la Vega Sanz, Maria Teresa\tmtfvs@spain.gov\t\tFirst Deputy Prime Minister, Spanish Gov\n",
      "\n"
     ]
    }
   ],
   "source": [
    "f = open('names.txt')\n",
    "\n",
    "data = f.read()\n",
    "\n",
    "print(data)"
   ]
  },
  {
   "cell_type": "markdown",
   "metadata": {
    "id": "K6g9dD95R0KP"
   },
   "source": [
    "##### with open()"
   ]
  },
  {
   "cell_type": "code",
   "execution_count": 3,
   "metadata": {
    "id": "gVFqh8q5R0KQ"
   },
   "outputs": [
    {
     "name": "stdout",
     "output_type": "stream",
     "text": [
      "Hawkins, Derek\tderek@codingtemple.com\t(555) 555-5555\tTeacher, Coding Temple\t@derekhawkins\n",
      "Zhai, Mo\tmozhai@codingtemple.com\t(555) 555-5554\tTeacher, Coding Temple\n",
      "Johnson, Joe\tjoejohnson@codingtemple.com\t\tJohson, Joe\n",
      "Osterberg, Sven-Erik\tgovernor@norrbotten.co.se\t\tGovernor, Norrbotten\t@sverik\n",
      ", Tim\ttim@killerrabbit.com\t\tEnchanter, Killer Rabbit Cave\n",
      "Butz, Ryan\tryanb@codingtemple.com\t(555) 555-5543\tCEO, Coding Temple\t@ryanbutz\n",
      "Doctor, The\tdoctor+companion@tardis.co.uk\t\tTime Lord, Gallifrey\n",
      "Exampleson, Example\tme@example.com\t555-555-5552\tExample, Example Co.\t@example\n",
      "Pael, Ripal\tripalp@codingtemple.com\t(555) 555-5553\tTeacher, Coding Temple\t@ripalp\n",
      "Vader, Darth\tdarth-vader@empire.gov\t(555) 555-4444\tSith Lord, Galactic Empire\t@darthvader\n",
      "Fernandez de la Vega Sanz, Maria Teresa\tmtfvs@spain.gov\t\tFirst Deputy Prime Minister, Spanish Gov\n",
      "\n"
     ]
    }
   ],
   "source": [
    "with open('names.txt') as f:\n",
    "\n",
    "  data = f.read()\n",
    "\n",
    "  print(data)"
   ]
  },
  {
   "cell_type": "markdown",
   "metadata": {
    "id": "UANfEmV3R0KQ"
   },
   "source": [
    "##### re.match()"
   ]
  },
  {
   "cell_type": "code",
   "execution_count": null,
   "metadata": {
    "id": "KDe3pPHjR0KR"
   },
   "outputs": [],
   "source": []
  },
  {
   "cell_type": "markdown",
   "metadata": {
    "id": "KcPTXIEOR0KR"
   },
   "source": [
    "##### re.search()"
   ]
  },
  {
   "cell_type": "code",
   "execution_count": null,
   "metadata": {
    "id": "U9RbQ1QQR0KR"
   },
   "outputs": [],
   "source": []
  },
  {
   "cell_type": "markdown",
   "metadata": {
    "id": "TBzWYrMKR0KS"
   },
   "source": [
    "##### Store the String to a Variable"
   ]
  },
  {
   "cell_type": "code",
   "execution_count": null,
   "metadata": {
    "id": "X7Zpv7nOR0KS"
   },
   "outputs": [],
   "source": []
  },
  {
   "cell_type": "markdown",
   "metadata": {
    "id": "bCf_L4QAR0KT"
   },
   "source": [
    "### In-Class Exercise #3 <br>\n",
    "<p>Print each persons name and twitter handle, using groups, should look like:</p>\n",
    "<p>==============<br>\n",
    "   Full Name / Twitter<br>\n",
    "   ==============</p>\n",
    "Derek Hawkins / @derekhawkins\n",
    "\n",
    " Erik Sven-Osterberg / @sverik\n",
    "\n",
    " Ryan Butz / @ryanbutz\n",
    "\n",
    " Example Exampleson / @example\n",
    "\n",
    " Ripal Pael / @ripalp\n",
    "\n",
    " Darth Vader / @darthvader"
   ]
  },
  {
   "cell_type": "code",
   "execution_count": 69,
   "metadata": {
    "id": "YTwHIoVTR0KU",
    "scrolled": true
   },
   "outputs": [
    {
     "name": "stdout",
     "output_type": "stream",
     "text": [
      "Derek Hawkins / @derekhawkins\n",
      "Mo Zhai / \n",
      "Joe Johnson / \n",
      "Sven-Erik Osterberg / @sverik\n",
      "Tim  / \n",
      "Ryan Butz / @ryanbutz\n",
      "The Doctor / \n",
      "Example Exampleson / @example\n",
      "Ripal Pael / @ripalp\n",
      "Darth Vader / @darthvader\n",
      "Maria Teresa Fernandez / \n",
      "  / \n"
     ]
    }
   ],
   "source": [
    "#Step 1 import names.txt\n",
    "#STep 2 convert text to a list (make take multiple steps)\n",
    "#Step 3 Create any tools we need\n",
    "#Step 4 create loop\n",
    "#Step 5 pull out the names (1 or 2 steps)\n",
    "#Step 6 pull out twitter\n",
    "#Step 7 print output with correct format\n",
    "\n",
    "#Step 1 line 9\n",
    "with open('names.txt') as f:\n",
    "  data = f.read()\n",
    "\n",
    "#Step 2 line 13\n",
    "divided = re.split(r'\\n', data)\n",
    "\n",
    "#Step 3  \n",
    "first_pattern = re.compile(r',\\s*([^\\t]+)')\n",
    "last_pattern = re.compile(r'[A-Z]*[a-z]*') \n",
    "twitter_pattern = re.compile(r'(?<=\\s)@[a-z]+')\n",
    "# Use if statement because not all lines start with a name \n",
    "\n",
    "#Step 4 \n",
    "for line in divided:\n",
    "    #find 1st name\n",
    "    first_name_found = first_pattern.findall(line)\n",
    "    if first_name_found:\n",
    "        first_name = first_name_found[0]\n",
    "    else:\n",
    "        first_name = \"\"\n",
    "    #find last name\n",
    "    last_name_found = last_pattern.match(line)\n",
    "    if last_name_found:\n",
    "        last_name = last_name_found[0]\n",
    "    else:\n",
    "        last_name = \"\"\n",
    "    #find twitter\n",
    "    twitter_handle_found = twitter_pattern.findall(line) #needed [0] to remove from list form\n",
    "    if twitter_handle_found:\n",
    "        twitter_handle = twitter_handle_found[0]\n",
    "    else:\n",
    "        twitter_handle = \"\"\n",
    "    print(f'{first_name} {last_name} / {twitter_handle}')\n",
    "# print(\"first\" + \"last\" + \" / \" +  \"twitter\" "
   ]
  },
  {
   "cell_type": "markdown",
   "metadata": {
    "id": "rLNfUkJLR0KU"
   },
   "source": [
    "### Regex project\n",
    "\n",
    "Use python to read the file regex_test.txt and print the last name on each line using regular expressions and groups (return None for names with no first and last name, or names that aren't properly capitalized)\n",
    "##### Hint: use with open() and readlines()"
   ]
  },
  {
   "cell_type": "code",
   "execution_count": 16,
   "metadata": {
    "id": "2immJv86R0KV"
   },
   "outputs": [
    {
     "name": "stdout",
     "output_type": "stream",
     "text": [
      "Abraham Lincoln\n",
      "Andrew P Garfield\n",
      "Connor Milliken\n",
      "Jordan Alexander Williams\n",
      "None\n",
      "None\n"
     ]
    }
   ],
   "source": [
    "\"\"\"\n",
    "Expected Output - this doesn't match the directions that just say print the last name (I'll match this outupt)\n",
    "Abraham Lincoln\n",
    "Andrew P Garfield  \n",
    "Connor Milliken\n",
    "Jordan Alexander Williams\n",
    "None\n",
    "None\n",
    "\"\"\"\n",
    "#If function to make sure that the name is found, if not we want to return an error message we can respond to later\n",
    "def name_is_there(check): \n",
    "    if check:\n",
    "        temp_name=check[0]\n",
    "    else:\n",
    "        temp_name = \"not there\" #not there is my error message\n",
    "    return(temp_name)\n",
    "\n",
    "#opening the data file we need\n",
    "f = open('regex_test.txt')\n",
    "# creating a list with each line broken up(this could have been useful in ex. 3.)\n",
    "data = f.readlines()\n",
    "# these are our patters to pull out the different names, they both need to start with a capital\n",
    "first_pattern = re.compile(r'[A-Z][a-z]+') \n",
    "#The example output has middle names, therefore we need spaces, so we used any number(*) of characters (.)\n",
    "last_pattern = re.compile(r'\\s[A-Z].*')\n",
    "#loop to run each line and then gather and each name\n",
    "for name in data:\n",
    "    first = first_pattern.findall(name)\n",
    "    first_name = name_is_there(first)\n",
    "    last = last_pattern.findall(name)\n",
    "    last_name = name_is_there(last)\n",
    "    # we want to only print None once if either name is incorrect, so this searches for all of our error messages\n",
    "    if first_name == \"not there\" or last_name == \"not there\":\n",
    "        #if any errors are found prints \"None\" for the whole name\n",
    "        print(\"None\")\n",
    "    else:\n",
    "        # the space is already included in the last name, so we don't need one in our print function\n",
    "        print(f'{first_name}{last_name}')"
   ]
  },
  {
   "cell_type": "code",
   "execution_count": null,
   "metadata": {
    "id": "HKsWGXOJR0KW"
   },
   "outputs": [],
   "source": []
  }
 ],
 "metadata": {
  "colab": {
   "provenance": [
    {
     "file_id": "1wtiJGGSDiJCIpALvp6jf26RWk-G4uwJz",
     "timestamp": 1689958109368
    }
   ]
  },
  "kernelspec": {
   "display_name": "Python 3 (ipykernel)",
   "language": "python",
   "name": "python3"
  },
  "language_info": {
   "codemirror_mode": {
    "name": "ipython",
    "version": 3
   },
   "file_extension": ".py",
   "mimetype": "text/x-python",
   "name": "python",
   "nbconvert_exporter": "python",
   "pygments_lexer": "ipython3",
   "version": "3.10.9"
  }
 },
 "nbformat": 4,
 "nbformat_minor": 1
}
